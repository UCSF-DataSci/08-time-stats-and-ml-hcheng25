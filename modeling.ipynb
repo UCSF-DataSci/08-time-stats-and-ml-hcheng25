{
 "cells": [
  {
   "cell_type": "code",
   "execution_count": 8,
   "metadata": {},
   "outputs": [
    {
     "name": "stdout",
     "output_type": "stream",
     "text": [
      "0\n"
     ]
    }
   ],
   "source": [
    "import pandas as pd\n",
    "import numpy as np\n",
    "import statsmodels as sm\n",
    "\n",
    "long = pd.read_csv('patient_longitudinal.csv', sep='\\t')\n",
    "long['visit_date'] = pd.to_datetime(arg=long['visit_date'], format='%Y-%m-%d')\n",
    "print(long.duplicated().sum()) #checking for dupes"
   ]
  },
  {
   "cell_type": "code",
   "execution_count": 9,
   "metadata": {},
   "outputs": [
    {
     "name": "stdout",
     "output_type": "stream",
     "text": [
      "patient_id       0\n",
      "visit_date       0\n",
      "bp_systolic      0\n",
      "heart_rate       0\n",
      "adverse_event    0\n",
      "age              0\n",
      "sex              0\n",
      "bmi              0\n",
      "smoking          0\n",
      "diabetes         0\n",
      "dtype: int64\n"
     ]
    }
   ],
   "source": [
    "print(long.isna().sum()) #checking for NAs"
   ]
  },
  {
   "cell_type": "code",
   "execution_count": 10,
   "metadata": {},
   "outputs": [
    {
     "name": "stdout",
     "output_type": "stream",
     "text": [
      "DatetimeIndex(['2023-01-17', '2023-09-23', '2024-05-22', '2024-12-31',\n",
      "               '2023-01-17', '2023-09-23', '2024-05-22', '2024-12-31',\n",
      "               '2023-01-17', '2023-09-23',\n",
      "               ...\n",
      "               '2024-05-22', '2024-12-31', '2023-01-17', '2023-09-23',\n",
      "               '2024-05-22', '2024-12-31', '2023-01-17', '2023-09-23',\n",
      "               '2024-05-22', '2024-12-31'],\n",
      "              dtype='datetime64[ns]', name='visit_date', length=4000, freq=None)\n"
     ]
    }
   ],
   "source": [
    "ts = pd.DatetimeIndex(long['visit_date'])\n",
    "print(ts)"
   ]
  },
  {
   "cell_type": "code",
   "execution_count": 11,
   "metadata": {},
   "outputs": [],
   "source": [
    "long.set_index('visit_date', inplace = True)\n"
   ]
  },
  {
   "cell_type": "code",
   "execution_count": 12,
   "metadata": {},
   "outputs": [
    {
     "name": "stdout",
     "output_type": "stream",
     "text": [
      "            patient_id  bp_systolic  heart_rate  adverse_event   age  sex  \\\n",
      "visit_date                                                                  \n",
      "2023-01-17           0        111.0        78.7              0  57.5  0.0   \n",
      "2023-09-23           0        112.0        79.5              0  57.5  0.0   \n",
      "2024-05-22           0        111.2        78.7              0  57.5  0.0   \n",
      "2024-12-31           0        109.2        79.5              0  57.5  0.0   \n",
      "2023-01-17           1        146.1        78.9              0  47.9  0.0   \n",
      "...                ...          ...         ...            ...   ...  ...   \n",
      "2024-12-31         998        136.9        77.1              0  41.4  0.0   \n",
      "2023-01-17         999        140.5        96.6              1  58.6  0.0   \n",
      "2023-09-23         999        140.2        98.6              0  58.6  0.0   \n",
      "2024-05-22         999        139.6        99.6              0  58.6  0.0   \n",
      "2024-12-31         999        138.5        99.3              1  58.6  0.0   \n",
      "\n",
      "             bmi  smoking  diabetes  \n",
      "visit_date                           \n",
      "2023-01-17  25.8      0.0       0.0  \n",
      "2023-09-23  25.8      0.0       0.0  \n",
      "2024-05-22  25.8      0.0       0.0  \n",
      "2024-12-31  25.8      0.0       0.0  \n",
      "2023-01-17  23.2      0.0       0.0  \n",
      "...          ...      ...       ...  \n",
      "2024-12-31  24.2      0.0       0.0  \n",
      "2023-01-17  25.6      0.0       0.0  \n",
      "2023-09-23  25.6      0.0       0.0  \n",
      "2024-05-22  25.6      0.0       0.0  \n",
      "2024-12-31  25.6      0.0       0.0  \n",
      "\n",
      "[4000 rows x 9 columns]\n"
     ]
    }
   ],
   "source": [
    "print(long)"
   ]
  }
 ],
 "metadata": {
  "kernelspec": {
   "display_name": ".venv",
   "language": "python",
   "name": "python3"
  },
  "language_info": {
   "codemirror_mode": {
    "name": "ipython",
    "version": 3
   },
   "file_extension": ".py",
   "mimetype": "text/x-python",
   "name": "python",
   "nbconvert_exporter": "python",
   "pygments_lexer": "ipython3",
   "version": "3.10.12"
  }
 },
 "nbformat": 4,
 "nbformat_minor": 2
}
