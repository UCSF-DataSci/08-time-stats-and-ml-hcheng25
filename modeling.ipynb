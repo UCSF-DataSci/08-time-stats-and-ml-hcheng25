{
 "cells": [
  {
   "cell_type": "code",
   "execution_count": null,
   "metadata": {},
   "outputs": [
    {
     "name": "stdout",
     "output_type": "stream",
     "text": [
      "0\n"
     ]
    }
   ],
   "source": [
    "import pandas as pd\n",
    "import numpy as np\n",
    "import statsmodels as sm\n",
    "\n",
    "long = pd.read_csv('patient_longitudinal.csv', sep='\\t')\n",
    "long['visit_date'] = pd.to_datetime(arg=long['visit_date'], format='%Y-%m-%d')\n",
    "print(long.duplicated().sum()) #checking for dupes"
   ]
  },
  {
   "cell_type": "code",
   "execution_count": null,
   "metadata": {},
   "outputs": [
    {
     "name": "stdout",
     "output_type": "stream",
     "text": [
      "patient_id       0\n",
      "visit_date       0\n",
      "bp_systolic      0\n",
      "heart_rate       0\n",
      "adverse_event    0\n",
      "age              0\n",
      "sex              0\n",
      "bmi              0\n",
      "smoking          0\n",
      "diabetes         0\n",
      "dtype: int64\n"
     ]
    }
   ],
   "source": [
    "print(long.isna().sum()) #checking for NAs"
   ]
  },
  {
   "cell_type": "code",
   "execution_count": 6,
   "metadata": {},
   "outputs": [
    {
     "name": "stdout",
     "output_type": "stream",
     "text": [
      "DatetimeIndex(['2023-01-17', '2023-09-23', '2024-05-22', '2024-12-31',\n",
      "               '2023-01-17', '2023-09-23', '2024-05-22', '2024-12-31',\n",
      "               '2023-01-17', '2023-09-23',\n",
      "               ...\n",
      "               '2024-05-22', '2024-12-31', '2023-01-17', '2023-09-23',\n",
      "               '2024-05-22', '2024-12-31', '2023-01-17', '2023-09-23',\n",
      "               '2024-05-22', '2024-12-31'],\n",
      "              dtype='datetime64[ns]', name='visit_date', length=4000, freq=None)\n"
     ]
    }
   ],
   "source": [
    "ts = pd.DatetimeIndex(long['visit_date'])\n",
    "print(ts)"
   ]
  }
 ],
 "metadata": {
  "kernelspec": {
   "display_name": ".venv",
   "language": "python",
   "name": "python3"
  },
  "language_info": {
   "codemirror_mode": {
    "name": "ipython",
    "version": 3
   },
   "file_extension": ".py",
   "mimetype": "text/x-python",
   "name": "python",
   "nbconvert_exporter": "python",
   "pygments_lexer": "ipython3",
   "version": "3.10.12"
  }
 },
 "nbformat": 4,
 "nbformat_minor": 2
}
